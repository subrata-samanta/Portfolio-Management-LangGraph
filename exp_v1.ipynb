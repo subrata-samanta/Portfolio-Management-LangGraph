{
 "cells": [
  {
   "cell_type": "code",
   "execution_count": 1,
   "metadata": {},
   "outputs": [
    {
     "name": "stderr",
     "output_type": "stream",
     "text": [
      "c:\\Users\\Subrata Samanta\\miniconda3\\envs\\genai\\Lib\\site-packages\\pinecone\\data\\index.py:1: TqdmWarning: IProgress not found. Please update jupyter and ipywidgets. See https://ipywidgets.readthedocs.io/en/stable/user_install.html\n",
      "  from tqdm.autonotebook import tqdm\n"
     ]
    }
   ],
   "source": [
    "# File: portfolio_manager.py\n",
    "import os\n",
    "import json\n",
    "import yfinance as yf\n",
    "import pandas as pd\n",
    "from typing import TypedDict\n",
    "from fredapi import Fred\n",
    "from sec_edgar_downloader import Downloader\n",
    "from langgraph.graph import StateGraph, END\n",
    "from langchain_openai import AzureChatOpenAI\n",
    "from neo4j import GraphDatabase\n",
    "from langchain_neo4j import Neo4jGraph\n",
    "from pypfopt.efficient_frontier import EfficientFrontier\n",
    "from pypfopt import risk_models\n",
    "from pypfopt import expected_returns\n",
    "from langchain_groq import ChatGroq\n",
    "from langchain_core.output_parsers import JsonOutputParser\n",
    "from langchain_core.prompts import PromptTemplate\n",
    "\n",
    "parser = JsonOutputParser()\n",
    "\n",
    "\n",
    "# ----------------- Configuration -----------------\n",
    "FRED_API_KEY = os.getenv(\"FRED_API_KEY\")\n",
    "# AZURE_OPENAI_KEY = os.getenv(\"AZURE_OPENAI_KEY\")\n",
    "NEO4J_URI = \"bolt://localhost:7687\"\n",
    "NEO4J_AUTH = (\"neo4j\", \"password\")\n",
    "\n",
    "from dotenv import load_dotenv\n",
    "import os\n",
    "load_dotenv()\n",
    "\n",
    "os.environ[\"GROQ_API_KEY\"] = os.getenv(\"GROQ_API_KEY\")\n",
    "\n",
    "\n",
    "# Predefined portfolio constituents\n",
    "PORTFOLIO_SYMBOLS = [\n",
    "    'AAPL', 'MSFT', 'GOOG', 'AMZN', 'TSLA',\n",
    "    'JNJ', 'PG', 'V', 'MA', 'NVDA',          # 10 stocks\n",
    "    'GLD',                                   # Gold ETF\n",
    "    'TLT', 'BND'                             # Bond ETFs\n",
    "]\n",
    "\n",
    "SYMBOL_SECTORS = {\n",
    "    # Stocks\n",
    "    'AAPL': 'Technology',\n",
    "    'MSFT': 'Technology',\n",
    "    'GOOG': 'Technology',\n",
    "    'AMZN': 'Consumer Discretionary',\n",
    "    'TSLA': 'Consumer Discretionary',\n",
    "    'JNJ': 'Healthcare',\n",
    "    'PG': 'Consumer Staples',\n",
    "    'V': 'Financials',\n",
    "    'MA': 'Financials',\n",
    "    'NVDA': 'Technology',\n",
    "    \n",
    "    # Alternative assets\n",
    "    'GLD': 'Commodity',\n",
    "    'TLT': 'Bonds',\n",
    "    'BND': 'Bonds'\n",
    "}\n",
    "\n",
    "GOLD_SYMBOL = 'GLD'\n",
    "BOND_SYMBOLS = ['TLT', 'BND']\n",
    "\n",
    "# Initialize services\n",
    "fred = Fred(api_key=FRED_API_KEY)\n",
    "\n",
    "llm = ChatGroq(\n",
    "    model=\"deepseek-r1-distill-qwen-32b\",\n",
    "    temperature=0,\n",
    "    max_tokens=None,\n",
    "    timeout=None,\n",
    "    max_retries=2,\n",
    "    # other params...\n",
    ")"
   ]
  },
  {
   "cell_type": "code",
   "execution_count": 2,
   "metadata": {},
   "outputs": [],
   "source": [
    "query = \"\"\"Optimize portfolio for medium risk tolerance with:\n",
    "- Maximum 25% tech sector exposure\n",
    "- Minimum 20% allocation to safe-haven assets\n",
    "- 5-year investment horizon\"\"\"\n"
   ]
  },
  {
   "cell_type": "code",
   "execution_count": 3,
   "metadata": {},
   "outputs": [],
   "source": [
    "graph = Neo4jGraph(\n",
    "            url=os.getenv(\"NEO4J_URI\"),\n",
    "            username=os.getenv(\"NEO4J_USERNAME\"),\n",
    "            password=os.getenv(\"NEO4J_PASSWORD\"),\n",
    "            database=\"neo4j\")"
   ]
  },
  {
   "cell_type": "code",
   "execution_count": 4,
   "metadata": {},
   "outputs": [
    {
     "data": {
      "text/plain": [
       "[{'test': 1}]"
      ]
     },
     "execution_count": 4,
     "metadata": {},
     "output_type": "execute_result"
    }
   ],
   "source": [
    "graph.query(\"RETURN 1 AS test\")"
   ]
  },
  {
   "cell_type": "code",
   "execution_count": null,
   "metadata": {},
   "outputs": [],
   "source": []
  }
 ],
 "metadata": {
  "kernelspec": {
   "display_name": "genai",
   "language": "python",
   "name": "python3"
  },
  "language_info": {
   "codemirror_mode": {
    "name": "ipython",
    "version": 3
   },
   "file_extension": ".py",
   "mimetype": "text/x-python",
   "name": "python",
   "nbconvert_exporter": "python",
   "pygments_lexer": "ipython3",
   "version": "3.11.11"
  }
 },
 "nbformat": 4,
 "nbformat_minor": 2
}
